{
 "cells": [
  {
   "cell_type": "code",
   "execution_count": 1,
   "id": "73d64990-e6f7-4717-9c35-c93628ccfd69",
   "metadata": {},
   "outputs": [],
   "source": [
    "import pandas as pd "
   ]
  },
  {
   "cell_type": "code",
   "execution_count": 2,
   "id": "519bab89-0ae5-4485-8749-19b1b190f552",
   "metadata": {},
   "outputs": [],
   "source": [
    "na_vals = ['NA', 'Missing']"
   ]
  },
  {
   "cell_type": "code",
   "execution_count": 3,
   "id": "d356fed2-daf9-48e3-b272-71d1660ec3c6",
   "metadata": {},
   "outputs": [],
   "source": [
    "df = pd.read_csv('survey_results_public.csv', na_values=na_vals)"
   ]
  },
  {
   "cell_type": "code",
   "execution_count": 4,
   "id": "ab31b51b-a129-4a42-ba41-b7f76b148f5d",
   "metadata": {},
   "outputs": [],
   "source": [
    "schema_df = pd.read_csv('survey_results_schema.csv') "
   ]
  },
  {
   "cell_type": "code",
   "execution_count": 5,
   "id": "4ac17bae-0b1e-4667-8e59-2ecd5d12776f",
   "metadata": {},
   "outputs": [
    {
     "data": {
      "text/plain": [
       "0    NaN\n",
       "1      7\n",
       "2    NaN\n",
       "3    NaN\n",
       "4     17\n",
       "5    NaN\n",
       "6      3\n",
       "7      4\n",
       "8      6\n",
       "9      7\n",
       "Name: YearsCode, dtype: object"
      ]
     },
     "execution_count": 5,
     "metadata": {},
     "output_type": "execute_result"
    }
   ],
   "source": [
    "df['YearsCode'].head(10)"
   ]
  },
  {
   "cell_type": "code",
   "execution_count": 15,
   "id": "3e9c2f52-6c36-4dad-b677-94039c175ec0",
   "metadata": {},
   "outputs": [],
   "source": [
    "#df['YearsCode'] = df['YearsCode'].astype(float) \n",
    "# raises an error because in the survey, there's an option 'Less than 1 year'"
   ]
  },
  {
   "cell_type": "code",
   "execution_count": 11,
   "id": "de2db0f9-dee0-4532-a072-6b67921e9aa6",
   "metadata": {},
   "outputs": [
    {
     "data": {
      "text/plain": [
       "array([nan, '7', '17', '3', '4', '6', '16', '12', '15', '10', '40', '9',\n",
       "       '26', '14', '39', '20', '8', '19', '5', 'Less than 1 year', '22',\n",
       "       '2', '1', '34', '21', '13', '25', '24', '30', '31', '18', '38',\n",
       "       'More than 50 years', '27', '41', '42', '35', '23', '28', '11',\n",
       "       '37', '44', '43', '36', '33', '45', '29', '50', '46', '32', '47',\n",
       "       '49', '48'], dtype=object)"
      ]
     },
     "execution_count": 11,
     "metadata": {},
     "output_type": "execute_result"
    }
   ],
   "source": [
    "df['YearsCode'].unique() \n",
    "# returns unique values based on a hash table"
   ]
  },
  {
   "cell_type": "code",
   "execution_count": 12,
   "id": "df76db4a-492e-42fd-a6d5-25d2c06c3d31",
   "metadata": {},
   "outputs": [
    {
     "data": {
      "text/plain": [
       "(0        NaN\n",
       " 1          7\n",
       " 2        NaN\n",
       " 3        NaN\n",
       " 4         17\n",
       "         ... \n",
       " 83434      6\n",
       " 83435      4\n",
       " 83436     10\n",
       " 83437      5\n",
       " 83438     14\n",
       " Name: YearsCode, Length: 83439, dtype: object,\n",
       " 0)"
      ]
     },
     "execution_count": 12,
     "metadata": {},
     "output_type": "execute_result"
    }
   ],
   "source": [
    "# replacing the strings to nums\n",
    "df['YearsCode'].replace('Less than 1 year'), 0\n",
    "# inplace=True"
   ]
  },
  {
   "cell_type": "code",
   "execution_count": 13,
   "id": "e0405e45-4180-4b36-a444-9220aee37fe1",
   "metadata": {},
   "outputs": [
    {
     "data": {
      "text/plain": [
       "(0        NaN\n",
       " 1          7\n",
       " 2        NaN\n",
       " 3        NaN\n",
       " 4         17\n",
       "         ... \n",
       " 83434      6\n",
       " 83435      4\n",
       " 83436     10\n",
       " 83437      5\n",
       " 83438     14\n",
       " Name: YearsCode, Length: 83439, dtype: object,\n",
       " 51)"
      ]
     },
     "execution_count": 13,
     "metadata": {},
     "output_type": "execute_result"
    }
   ],
   "source": [
    "df['YearsCode'].replace('More than 50 years'), 51 \n",
    "# inplace=True"
   ]
  },
  {
   "cell_type": "code",
   "execution_count": 18,
   "id": "e7eb6cb6-fd8c-478b-869c-382472241683",
   "metadata": {},
   "outputs": [],
   "source": [
    "#df['YearsCode'].mean()"
   ]
  },
  {
   "cell_type": "code",
   "execution_count": 21,
   "id": "9d1b5df8-8e21-4654-b094-7c7d13e6b68b",
   "metadata": {},
   "outputs": [],
   "source": [
    "#df['YearsCode'].median() "
   ]
  },
  {
   "cell_type": "code",
   "execution_count": null,
   "id": "ab0db2a3-c908-4949-91c4-9626fb90eb12",
   "metadata": {},
   "outputs": [],
   "source": []
  }
 ],
 "metadata": {
  "kernelspec": {
   "display_name": "Python 3 (ipykernel)",
   "language": "python",
   "name": "python3"
  },
  "language_info": {
   "codemirror_mode": {
    "name": "ipython",
    "version": 3
   },
   "file_extension": ".py",
   "mimetype": "text/x-python",
   "name": "python",
   "nbconvert_exporter": "python",
   "pygments_lexer": "ipython3",
   "version": "3.10.4"
  }
 },
 "nbformat": 4,
 "nbformat_minor": 5
}
