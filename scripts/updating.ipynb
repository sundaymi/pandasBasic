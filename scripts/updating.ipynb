{
 "cells": [
  {
   "cell_type": "code",
   "execution_count": 1,
   "id": "3e528691-2283-44ee-9aae-bc3e8fb602f4",
   "metadata": {},
   "outputs": [],
   "source": [
    "import pandas as pd"
   ]
  },
  {
   "cell_type": "code",
   "execution_count": 2,
   "id": "e8b6434a-e5f8-485d-b8ce-55f705348322",
   "metadata": {},
   "outputs": [],
   "source": [
    "df = pd.read_csv('survey_results_public.csv')"
   ]
  },
  {
   "cell_type": "code",
   "execution_count": 3,
   "id": "65f9e063-5214-4686-aa2f-436dfd6f83cf",
   "metadata": {},
   "outputs": [],
   "source": [
    "schema_df = pd.read_csv('survey_results_schema.csv')"
   ]
  },
  {
   "cell_type": "code",
   "execution_count": 4,
   "id": "4eff601c-931a-4395-8b01-adf4f3912fcf",
   "metadata": {},
   "outputs": [],
   "source": [
    "# df.rename(columns={'ConvertedComp': 'SalaryUSD'}, inplace=True)\n",
    "# it changes the column name to SalaryUSD\n",
    "# df['SalaryUSD']  # to check if it works (it does!)"
   ]
  },
  {
   "cell_type": "code",
   "execution_count": 7,
   "id": "fece8113-d7a4-4fa4-8281-8004397424e2",
   "metadata": {},
   "outputs": [],
   "source": [
    "#df['Hobbyist']\n",
    "#df['Hobbyist'].map({'Yes': True, 'No': False})\n",
    "# it changes the Yes values to boolean True and for No to boolean False\n"
   ]
  },
  {
   "cell_type": "code",
   "execution_count": 8,
   "id": "e7e0487a-5ce0-45c4-af22-ce66299b74e5",
   "metadata": {},
   "outputs": [],
   "source": [
    "#df['Hobbyist'] = df['Hobbyist'].map({'Yes': True, 'No': False}) \n",
    "# to keep the changes because we can't with inplace\n",
    "# everything outside from these two options (Yes or No) in the dictionary\n",
    "# will appear as NaN "
   ]
  },
  {
   "cell_type": "code",
   "execution_count": null,
   "id": "1e5b1e76-657e-4425-ae4c-4ee1ff65ed49",
   "metadata": {},
   "outputs": [],
   "source": []
  }
 ],
 "metadata": {
  "kernelspec": {
   "display_name": "Python 3 (ipykernel)",
   "language": "python",
   "name": "python3"
  },
  "language_info": {
   "codemirror_mode": {
    "name": "ipython",
    "version": 3
   },
   "file_extension": ".py",
   "mimetype": "text/x-python",
   "name": "python",
   "nbconvert_exporter": "python",
   "pygments_lexer": "ipython3",
   "version": "3.10.4"
  }
 },
 "nbformat": 4,
 "nbformat_minor": 5
}
