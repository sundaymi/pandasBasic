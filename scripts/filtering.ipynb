{
 "cells": [
  {
   "cell_type": "code",
   "execution_count": 6,
   "id": "b3de6d56-979c-4ca0-93ed-128b7b0aa840",
   "metadata": {},
   "outputs": [
    {
     "name": "stdout",
     "output_type": "stream",
     "text": [
      "Collecting pandas\n",
      "  Downloading pandas-1.4.3-cp310-cp310-manylinux_2_17_x86_64.manylinux2014_x86_64.whl (11.6 MB)\n",
      "\u001b[2K     \u001b[90m━━━━━━━━━━━━━━━━━━━━━━━━━━━━━━━━━━━━━━━\u001b[0m \u001b[32m11.6/11.6 MB\u001b[0m \u001b[31m378.3 kB/s\u001b[0m eta \u001b[36m0:00:00\u001b[0m00:01\u001b[0m00:01\u001b[0m\n",
      "\u001b[?25hRequirement already satisfied: pytz>=2020.1 in /usr/local/lib/python3.10/dist-packages (from pandas) (2022.1)\n",
      "Collecting numpy>=1.21.0\n",
      "  Downloading numpy-1.23.1-cp310-cp310-manylinux_2_17_x86_64.manylinux2014_x86_64.whl (17.0 MB)\n",
      "\u001b[2K     \u001b[90m━━━━━━━━━━━━━━━━━━━━━━━━━━━━━━━━━━━━━━━\u001b[0m \u001b[32m17.0/17.0 MB\u001b[0m \u001b[31m373.7 kB/s\u001b[0m eta \u001b[36m0:00:00\u001b[0m00:01\u001b[0m00:02\u001b[0m\n",
      "\u001b[?25hRequirement already satisfied: python-dateutil>=2.8.1 in /usr/local/lib/python3.10/dist-packages (from pandas) (2.8.2)\n",
      "Requirement already satisfied: six>=1.5 in /usr/local/lib/python3.10/dist-packages (from python-dateutil>=2.8.1->pandas) (1.16.0)\n",
      "Installing collected packages: numpy, pandas\n",
      "Successfully installed numpy-1.23.1 pandas-1.4.3\n",
      "\u001b[33mWARNING: Running pip as the 'root' user can result in broken permissions and conflicting behaviour with the system package manager. It is recommended to use a virtual environment instead: https://pip.pypa.io/warnings/venv\u001b[0m\u001b[33m\n",
      "\u001b[0mNote: you may need to restart the kernel to use updated packages.\n"
     ]
    }
   ],
   "source": [
    "pip install pandas"
   ]
  },
  {
   "cell_type": "code",
   "execution_count": 9,
   "id": "e8e44f64-5bee-4816-b458-34efeaa87c0a",
   "metadata": {},
   "outputs": [],
   "source": [
    "import pandas as pd"
   ]
  },
  {
   "cell_type": "code",
   "execution_count": 11,
   "id": "7b8e3789-edb8-42cd-a733-e5b92db3b053",
   "metadata": {},
   "outputs": [],
   "source": [
    "df = pd.read_csv('survey_results_public.csv')"
   ]
  },
  {
   "cell_type": "code",
   "execution_count": 12,
   "id": "e87745ed-48ad-49ef-ad37-cbfde55ce341",
   "metadata": {},
   "outputs": [],
   "source": [
    "schema_df = pd.read_csv('survey_results_schema.csv')"
   ]
  },
  {
   "cell_type": "code",
   "execution_count": 13,
   "id": "fb6a4781-e0ef-4122-857f-b4980a472c9b",
   "metadata": {},
   "outputs": [],
   "source": [
    "pd.set_option('display.max_columns', 85)\n",
    "# it displays the maximum of columns (jupyter)"
   ]
  },
  {
   "cell_type": "code",
   "execution_count": 14,
   "id": "cec85726-4292-4cc4-8dfc-57e31cfd29a1",
   "metadata": {},
   "outputs": [],
   "source": [
    "pd.set_option('display.max_rows', 85)"
   ]
  },
  {
   "cell_type": "code",
   "execution_count": 19,
   "id": "56bed723-b564-499e-8531-33145eddc07e",
   "metadata": {},
   "outputs": [],
   "source": [
    "organization_size = (df['CompTotal'] > 70000)"
   ]
  },
  {
   "cell_type": "code",
   "execution_count": 39,
   "id": "df52e71a-dbbf-469b-897e-9a320e88f533",
   "metadata": {},
   "outputs": [],
   "source": [
    "# df.loc[CompTotal]  \n",
    "# it gives us all the rows and columns based on the converted comb to be more than 70000 "
   ]
  },
  {
   "cell_type": "code",
   "execution_count": 40,
   "id": "779c28d1-ad7a-42df-9781-63ce9a32c7ed",
   "metadata": {},
   "outputs": [],
   "source": [
    "#a = df.loc[OpSys, ['Language', 'Database', 'WebFrame']] \n",
    "#print(a) # here we have the Education Levels with worked languages and converted comp "
   ]
  },
  {
   "cell_type": "code",
   "execution_count": 23,
   "id": "80778358-aa31-47bc-96a5-d55fa57fdad3",
   "metadata": {},
   "outputs": [],
   "source": [
    "country = ['United States', 'India', 'United Kingdom', 'Germany', 'Canada']"
   ]
  },
  {
   "cell_type": "code",
   "execution_count": 24,
   "id": "2980b204-1089-44ea-acdf-1c36da03d7db",
   "metadata": {},
   "outputs": [],
   "source": [
    "filt = df['Country'].isin(country)"
   ]
  },
  {
   "cell_type": "code",
   "execution_count": 27,
   "id": "d4e1d133-4d64-4c29-a395-d86f37e1dbcf",
   "metadata": {},
   "outputs": [
    {
     "data": {
      "text/plain": [
       "8          India\n",
       "12       Germany\n",
       "17        Canada\n",
       "20       Germany\n",
       "22         India\n",
       "          ...   \n",
       "80872    Germany\n",
       "80879     Canada\n",
       "80882    Germany\n",
       "80884    Germany\n",
       "80888      India\n",
       "Name: Country, Length: 18546, dtype: object"
      ]
     },
     "execution_count": 27,
     "metadata": {},
     "output_type": "execute_result"
    }
   ],
   "source": [
    "df.loc[filt, 'Country']\n",
    "# it gives us the countries based on the list we made "
   ]
  },
  {
   "cell_type": "code",
   "execution_count": 31,
   "id": "3bb4392b-b799-4049-ae5b-718b4a32769a",
   "metadata": {},
   "outputs": [],
   "source": [
    "filt2 = df['LanguageHaveWorkedWith'].str.contains('Python', na=False) \n",
    "# na is for not include the NaN values in the filter"
   ]
  },
  {
   "cell_type": "code",
   "execution_count": 33,
   "id": "02cc8f20-4fe9-4bc9-9c48-af9b836dc176",
   "metadata": {},
   "outputs": [
    {
     "data": {
      "text/plain": [
       "1                                        JavaScript;Python\n",
       "2                                 Assembly;C;Python;R;Rust\n",
       "4                           Bash/Shell;HTML/CSS;Python;SQL\n",
       "5        C;C#;C++;HTML/CSS;Java;JavaScript;Node.js;Powe...\n",
       "9                                               C++;Python\n",
       "                               ...                        \n",
       "80882          C++;HTML/CSS;Java;JavaScript;Node.js;Python\n",
       "80883                             Bash/Shell;Perl;Python;R\n",
       "80884    HTML/CSS;Java;JavaScript;Node.js;Python;Swift;...\n",
       "80886    Clojure;HTML/CSS;Java;JavaScript;Python;SQL;Ty...\n",
       "80887    Assembly;C;C#;C++;HTML/CSS;Java;JavaScript;Pyt...\n",
       "Name: LanguageHaveWorkedWith, Length: 38524, dtype: object"
      ]
     },
     "execution_count": 33,
     "metadata": {},
     "output_type": "execute_result"
    }
   ],
   "source": [
    "# and the string in that column contains the Python value\n",
    "df.loc[filt2, 'LanguageHaveWorkedWith'] "
   ]
  },
  {
   "cell_type": "code",
   "execution_count": 34,
   "id": "225717eb-ae59-4009-8b98-194844f5e269",
   "metadata": {},
   "outputs": [
    {
     "data": {
      "text/plain": [
       "0        False\n",
       "1         True\n",
       "2         True\n",
       "3        False\n",
       "4         True\n",
       "         ...  \n",
       "80884     True\n",
       "80885    False\n",
       "80886     True\n",
       "80887     True\n",
       "80888    False\n",
       "Name: LanguageHaveWorkedWith, Length: 80889, dtype: bool"
      ]
     },
     "execution_count": 34,
     "metadata": {},
     "output_type": "execute_result"
    }
   ],
   "source": [
    "filt2"
   ]
  },
  {
   "cell_type": "code",
   "execution_count": null,
   "id": "5240f9c6-db31-4ca3-8996-25c2b0759a62",
   "metadata": {},
   "outputs": [],
   "source": []
  }
 ],
 "metadata": {
  "kernelspec": {
   "display_name": "Python 3 (ipykernel)",
   "language": "python",
   "name": "python3"
  },
  "language_info": {
   "codemirror_mode": {
    "name": "ipython",
    "version": 3
   },
   "file_extension": ".py",
   "mimetype": "text/x-python",
   "name": "python",
   "nbconvert_exporter": "python",
   "pygments_lexer": "ipython3",
   "version": "3.10.4"
  }
 },
 "nbformat": 4,
 "nbformat_minor": 5
}
