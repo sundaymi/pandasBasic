{
 "cells": [
  {
   "cell_type": "code",
   "execution_count": 1,
   "id": "fe5245ab-7fd3-4eb2-94e4-1aae73bd23c0",
   "metadata": {},
   "outputs": [
    {
     "name": "stdout",
     "output_type": "stream",
     "text": [
      "Collecting pandas\n",
      "  Downloading pandas-1.4.3-cp310-cp310-manylinux_2_17_x86_64.manylinux2014_x86_64.whl (11.6 MB)\n",
      "\u001b[2K     \u001b[90m━━━━━━━━━━━━━━━━━━━━━━━━━━━━━━━━━━━━━━━\u001b[0m \u001b[32m11.6/11.6 MB\u001b[0m \u001b[31m328.0 kB/s\u001b[0m eta \u001b[36m0:00:00\u001b[0m00:01\u001b[0m00:01\u001b[0m\n",
      "\u001b[?25hRequirement already satisfied: pytz>=2020.1 in /usr/local/lib/python3.10/dist-packages (from pandas) (2022.1)\n",
      "Requirement already satisfied: python-dateutil>=2.8.1 in /usr/local/lib/python3.10/dist-packages (from pandas) (2.8.2)\n",
      "Collecting numpy>=1.21.0\n",
      "  Downloading numpy-1.23.1-cp310-cp310-manylinux_2_17_x86_64.manylinux2014_x86_64.whl (17.0 MB)\n",
      "\u001b[2K     \u001b[90m━━━━━━━━━━━━━━━━━━━━━━━━━━━━━━━━━━━━━━━\u001b[0m \u001b[32m17.0/17.0 MB\u001b[0m \u001b[31m288.1 kB/s\u001b[0m eta \u001b[36m0:00:00\u001b[0m00:01\u001b[0m00:02\u001b[0m\n",
      "\u001b[?25hRequirement already satisfied: six>=1.5 in /usr/local/lib/python3.10/dist-packages (from python-dateutil>=2.8.1->pandas) (1.16.0)\n",
      "Installing collected packages: numpy, pandas\n",
      "Successfully installed numpy-1.23.1 pandas-1.4.3\n",
      "\u001b[33mWARNING: Running pip as the 'root' user can result in broken permissions and conflicting behaviour with the system package manager. It is recommended to use a virtual environment instead: https://pip.pypa.io/warnings/venv\u001b[0m\u001b[33m\n",
      "\u001b[0mNote: you may need to restart the kernel to use updated packages.\n"
     ]
    }
   ],
   "source": [
    "pip install pandas"
   ]
  },
  {
   "cell_type": "code",
   "execution_count": 2,
   "id": "91add6d5-4343-4a5c-890e-c0993c43d026",
   "metadata": {},
   "outputs": [],
   "source": [
    "import pandas as pd "
   ]
  },
  {
   "cell_type": "code",
   "execution_count": 9,
   "id": "8736440a-fb8f-461b-8381-23232b730c34",
   "metadata": {},
   "outputs": [],
   "source": [
    "#df = pd.read_csv('survey_results_public.csv', index_col='Respondent')\n",
    "# if you check the Respondent you will understand why we use it as an index"
   ]
  },
  {
   "cell_type": "code",
   "execution_count": 8,
   "id": "a684c870-9244-4d61-bd91-7976c238f72a",
   "metadata": {},
   "outputs": [],
   "source": [
    "#schema_df = pd.read_csv('survey_results_schema.csv', index_col='Column')"
   ]
  },
  {
   "cell_type": "code",
   "execution_count": 6,
   "id": "7a3fe0cc-8cdf-4ae8-ada4-60fa934b688e",
   "metadata": {},
   "outputs": [],
   "source": [
    "pd.set_option('display.max_columns', 85) \n",
    "# it displays the maximum of columns (jupyter) "
   ]
  },
  {
   "cell_type": "code",
   "execution_count": 7,
   "id": "54917be9-1f28-4d5e-b55a-f28bd8b1469d",
   "metadata": {},
   "outputs": [],
   "source": [
    "pd.set_option('display.max_rows', 85)"
   ]
  },
  {
   "cell_type": "code",
   "execution_count": 11,
   "id": "943eb440-3ef1-4297-ab09-94151e3a2310",
   "metadata": {},
   "outputs": [],
   "source": [
    "#df.loc[1]"
   ]
  },
  {
   "cell_type": "code",
   "execution_count": 12,
   "id": "4754122c-2f20-4c5f-8650-a69a1719fef9",
   "metadata": {},
   "outputs": [],
   "source": [
    "#schema_df.loc['Hobbyist']"
   ]
  },
  {
   "cell_type": "code",
   "execution_count": 13,
   "id": "fb312626-d2e5-4c1e-adbe-0a72ecd430c2",
   "metadata": {},
   "outputs": [],
   "source": [
    "#schema_df.loc['Hobbyist', 'QuestionText']"
   ]
  },
  {
   "cell_type": "code",
   "execution_count": 14,
   "id": "06e199fe-a1b1-4ef9-9615-66a19d92c865",
   "metadata": {},
   "outputs": [],
   "source": [
    "#schema_df.sort_index()"
   ]
  },
  {
   "cell_type": "code",
   "execution_count": 15,
   "id": "d2215bdb-80f6-4076-9fa4-9909430eb054",
   "metadata": {},
   "outputs": [],
   "source": [
    "#schema_df.sort_index(ascending=False)"
   ]
  },
  {
   "cell_type": "code",
   "execution_count": null,
   "id": "f1e50fbf-d37d-4eeb-ba26-2c93c2836a84",
   "metadata": {},
   "outputs": [],
   "source": []
  }
 ],
 "metadata": {
  "kernelspec": {
   "display_name": "Python 3 (ipykernel)",
   "language": "python",
   "name": "python3"
  },
  "language_info": {
   "codemirror_mode": {
    "name": "ipython",
    "version": 3
   },
   "file_extension": ".py",
   "mimetype": "text/x-python",
   "name": "python",
   "nbconvert_exporter": "python",
   "pygments_lexer": "ipython3",
   "version": "3.10.4"
  }
 },
 "nbformat": 4,
 "nbformat_minor": 5
}
